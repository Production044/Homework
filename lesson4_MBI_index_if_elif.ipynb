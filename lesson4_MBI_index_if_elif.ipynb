{
 "cells": [
  {
   "cell_type": "code",
   "execution_count": 1,
   "id": "0e50d99c",
   "metadata": {},
   "outputs": [
    {
     "name": "stdout",
     "output_type": "stream",
     "text": [
      "Ваш индекс: 27.68166089965398\n",
      "У Вас избыточный вес!\n"
     ]
    }
   ],
   "source": [
    "weight =  80\n",
    "height = 179\n",
    "height = 1.7\n",
    "BMI = (weight/(height * height))\n",
    "print('Ваш индекс: ' + str(BMI))\n",
    "if BMI < 18: \n",
    "    print('У Вас недостаточная масса тела!')\n",
    "elif BMI <= 25:\n",
    "    print('У вас все отлично!')\n",
    "elif BMI > 25:\n",
    "    print('У Вас избыточный вес!')"
   ]
  },
  {
   "cell_type": "code",
   "execution_count": null,
   "id": "196d5f82",
   "metadata": {},
   "outputs": [],
   "source": []
  }
 ],
 "metadata": {
  "kernelspec": {
   "display_name": "Python 3 (ipykernel)",
   "language": "python",
   "name": "python3"
  },
  "language_info": {
   "codemirror_mode": {
    "name": "ipython",
    "version": 3
   },
   "file_extension": ".py",
   "mimetype": "text/x-python",
   "name": "python",
   "nbconvert_exporter": "python",
   "pygments_lexer": "ipython3",
   "version": "3.10.2"
  }
 },
 "nbformat": 4,
 "nbformat_minor": 5
}

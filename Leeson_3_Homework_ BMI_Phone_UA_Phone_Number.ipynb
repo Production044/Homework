{
 "cells": [
  {
   "cell_type": "code",
   "execution_count": 1,
   "id": "3470b860",
   "metadata": {},
   "outputs": [
    {
     "name": "stdout",
     "output_type": "stream",
     "text": [
      "Your BMI is: 27.68166089965398\n",
      "Your BMI is normal: \n"
     ]
    },
    {
     "data": {
      "text/plain": [
       "False"
      ]
     },
     "execution_count": 1,
     "metadata": {},
     "output_type": "execute_result"
    }
   ],
   "source": [
    "weight = 80\n",
    "height = 179\n",
    "height = 1.7\n",
    "BMI = (weight/(height * height))\n",
    "print('Your BMI is: ' + str(BMI))\n",
    "print('Your BMI is normal: ')\n",
    "BMI > 18.5 <= 25\n",
    "18 < BMI <= 25"
   ]
  },
  {
   "cell_type": "code",
   "execution_count": null,
   "id": "a09c5f9b",
   "metadata": {},
   "outputs": [],
   "source": [
    "# К сожалению не успел сделать второе задание. Не совсем удалось понять как писать код. \n",
    "# Если это будет актуально скину в ЛС инфу о выполнении."
   ]
  }
 ],
 "metadata": {
  "kernelspec": {
   "display_name": "Python 3 (ipykernel)",
   "language": "python",
   "name": "python3"
  },
  "language_info": {
   "codemirror_mode": {
    "name": "ipython",
    "version": 3
   },
   "file_extension": ".py",
   "mimetype": "text/x-python",
   "name": "python",
   "nbconvert_exporter": "python",
   "pygments_lexer": "ipython3",
   "version": "3.10.2"
  }
 },
 "nbformat": 4,
 "nbformat_minor": 5
}
